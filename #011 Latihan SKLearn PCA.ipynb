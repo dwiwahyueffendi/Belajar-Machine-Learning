{
  "nbformat": 4,
  "nbformat_minor": 0,
  "metadata": {
    "colab": {
      "name": "Latihan SKLearn PCA.ipynb",
      "provenance": []
    },
    "kernelspec": {
      "name": "python3",
      "display_name": "Python 3"
    }
  },
  "cells": [
    {
      "cell_type": "code",
      "metadata": {
        "id": "3Hop3qOu549-",
        "colab_type": "code",
        "colab": {
          "base_uri": "https://localhost:8080/",
          "height": 35
        },
        "outputId": "c50e87e6-6b76-4797-fc0b-6dc6ec2bea70"
      },
      "source": [
        "from sklearn.decomposition import PCA\n",
        "from sklearn.model_selection import train_test_split\n",
        "from sklearn import datasets\n",
        "iris = datasets.load_iris()\n",
        "atribut = iris.data\n",
        "label = iris.target\n",
        "x_train, x_test, y_train, y_test = train_test_split(atribut, label, test_size=0.2)\n",
        "#Menggunakan Model Decision Tree dan Menghitung Akurasinya Tanpa PCA\n",
        "from sklearn import tree\n",
        "decision_tree = tree.DecisionTreeClassifier()\n",
        "model_pertama = decision_tree.fit(x_train, y_train)\n",
        "model_pertama.score(x_test, y_test)"
      ],
      "execution_count": 4,
      "outputs": [
        {
          "output_type": "execute_result",
          "data": {
            "text/plain": [
              "0.9666666666666667"
            ]
          },
          "metadata": {
            "tags": []
          },
          "execution_count": 4
        }
      ]
    },
    {
      "cell_type": "code",
      "metadata": {
        "id": "cTxM7vaWCtTN",
        "colab_type": "code",
        "colab": {
          "base_uri": "https://localhost:8080/",
          "height": 35
        },
        "outputId": "1e88f726-ddf3-4ab5-aa37-e42c635e87fb"
      },
      "source": [
        "#Membuat Objek PCA dengan 4 Principal Component\n",
        "pca = PCA(n_components=4)\n",
        "#Mengaplikasikan PCA pada Dataset\n",
        "pca_attributes = pca.fit_transform(x_train)\n",
        "#Melihat Variance dari setiap atribut\n",
        "pca.explained_variance_ratio_"
      ],
      "execution_count": 6,
      "outputs": [
        {
          "output_type": "execute_result",
          "data": {
            "text/plain": [
              "array([0.91718042, 0.06008211, 0.01760092, 0.00513655])"
            ]
          },
          "metadata": {
            "tags": []
          },
          "execution_count": 6
        }
      ]
    },
    {
      "cell_type": "code",
      "metadata": {
        "id": "LNKu-UMPDMWR",
        "colab_type": "code",
        "colab": {
          "base_uri": "https://localhost:8080/",
          "height": 35
        },
        "outputId": "381b7bc7-4b7c-4f89-999a-18ee99e4295c"
      },
      "source": [
        "#Mengambil 2 Principal Component Terbaik Karena Total Variancenya 0.969\n",
        "pca = PCA(n_components = 2)\n",
        "x_train_pca = pca.fit_transform(x_train)\n",
        "x_test_pca = pca.fit_transform(x_test)\n",
        "#Menguji Classifier Setelah Menggunakan PCA\n",
        "model2 = decision_tree.fit(x_train_pca, y_train)\n",
        "model2.score(x_test_pca, y_test)"
      ],
      "execution_count": 8,
      "outputs": [
        {
          "output_type": "execute_result",
          "data": {
            "text/plain": [
              "0.9333333333333333"
            ]
          },
          "metadata": {
            "tags": []
          },
          "execution_count": 8
        }
      ]
    }
  ]
}